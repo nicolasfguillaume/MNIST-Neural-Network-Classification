{
 "cells": [
  {
   "cell_type": "markdown",
   "metadata": {},
   "source": [
    "# Feedforward Neural Network: Classification (MNIST dataset)"
   ]
  },
  {
   "cell_type": "markdown",
   "metadata": {},
   "source": [
    "#### MNIST dataset\n",
    "\n",
    "The data files train.csv and test.csv contain gray-scale images of hand-drawn digits, from zero through nine.\n",
    "\n",
    "Each image is 28 pixels in height and 28 pixels in width, for a total of 784 pixels in total. Each pixel has a single pixel-value associated with it, indicating the lightness or darkness of that pixel, with higher numbers meaning darker. This pixel-value is an integer between 0 and 255, inclusive.\n",
    "\n",
    "The training data set, (train.csv), has 785 columns. The first column, called \"label\", is the digit that was drawn by the user. The rest of the columns contain the pixel-values of the associated image.\n",
    "\n",
    "#### Scikit-Neural Network: Feedfoward neural network with SKNN\n",
    "\n",
    "In this example, we will use the Scikit-Neural Network (SKNN) package for Python.  \n",
    "\n",
    "See http://scikit-neuralnetwork.readthedocs.org/en/latest/guide_beginners.html"
   ]
  },
  {
   "cell_type": "markdown",
   "metadata": {},
   "source": [
    "## 1. Loading the dataset"
   ]
  },
  {
   "cell_type": "code",
   "execution_count": 1,
   "metadata": {
    "collapsed": true
   },
   "outputs": [],
   "source": [
    "import pandas as pd\n",
    "import numpy as np\n",
    "from sklearn.preprocessing import LabelEncoder\n",
    "from sklearn.cross_validation import KFold\n",
    "from sklearn.ensemble import RandomForestRegressor\n",
    "from sklearn.grid_search import GridSearchCV, RandomizedSearchCV\n",
    "import matplotlib.pyplot as plt\n",
    "%matplotlib inline \n",
    "import time, math"
   ]
  },
  {
   "cell_type": "code",
   "execution_count": 3,
   "metadata": {
    "collapsed": false
   },
   "outputs": [
    {
     "name": "stdout",
     "output_type": "stream",
     "text": [
      "   label  pixel0  pixel1  pixel2  pixel3  pixel4  pixel5  pixel6  pixel7  \\\n",
      "0      1       0       0       0       0       0       0       0       0   \n",
      "1      0       0       0       0       0       0       0       0       0   \n",
      "2      1       0       0       0       0       0       0       0       0   \n",
      "3      4       0       0       0       0       0       0       0       0   \n",
      "4      0       0       0       0       0       0       0       0       0   \n",
      "\n",
      "   pixel8    ...     pixel774  pixel775  pixel776  pixel777  pixel778  \\\n",
      "0       0    ...            0         0         0         0         0   \n",
      "1       0    ...            0         0         0         0         0   \n",
      "2       0    ...            0         0         0         0         0   \n",
      "3       0    ...            0         0         0         0         0   \n",
      "4       0    ...            0         0         0         0         0   \n",
      "\n",
      "   pixel779  pixel780  pixel781  pixel782  pixel783  \n",
      "0         0         0         0         0         0  \n",
      "1         0         0         0         0         0  \n",
      "2         0         0         0         0         0  \n",
      "3         0         0         0         0         0  \n",
      "4         0         0         0         0         0  \n",
      "\n",
      "[5 rows x 785 columns]\n"
     ]
    }
   ],
   "source": [
    "mnist_train = pd.read_csv('MNIST/train.csv')\n",
    "mnist_test = pd.read_csv('MNIST/test.csv')   \n",
    "\n",
    "print mnist_train.head()"
   ]
  },
  {
   "cell_type": "code",
   "execution_count": 4,
   "metadata": {
    "collapsed": false
   },
   "outputs": [
    {
     "data": {
      "image/png": "[encoded data removed]",
      "text/plain": [
       "<matplotlib.figure.Figure at 0x152b2c18>"
      ]
     },
     "metadata": {},
     "output_type": "display_data"
    },
    {
     "data": {
      "image/png": "[encoded data removed]",
      "text/plain": [
       "<matplotlib.figure.Figure at 0x1f11be10>"
      ]
     },
     "metadata": {},
     "output_type": "display_data"
    }
   ],
   "source": [
    "import numpy as np\n",
    "import seaborn as sns\n",
    "\n",
    "mnist_X = mnist_train.values[:,1:]        # keeps all columns except the first one (labels)\n",
    "mnist_y = mnist_train.values[:,0]         # keeps only first column (labels)\n",
    "mnist_X_final_test = mnist_test.values\n",
    "\n",
    "for i in range(10,12):\n",
    "    number_mat = np.reshape(mnist_X[i],(28,28))\n",
    "    plt.matshow(number_mat)\n",
    "    plt.grid(False)\n",
    "    plt.axis('off')"
   ]
  },
  {
   "cell_type": "markdown",
   "metadata": {},
   "source": [
    "## 2. Split into training and test set"
   ]
  },
  {
   "cell_type": "code",
   "execution_count": 5,
   "metadata": {
    "collapsed": false
   },
   "outputs": [],
   "source": [
    "import sys, time\n",
    "from sklearn.base import clone\n",
    "from sklearn.cross_validation import train_test_split\n",
    "from sklearn.datasets import fetch_mldata\n",
    "from sklearn.metrics import classification_report\n",
    "\n",
    "# Normalizes data set [from 0 to 1] (for better results with NN)\n",
    "mnist_X_norm = mnist_X / 255.\n",
    "\n",
    "# creating the training and test datasets\n",
    "mnist_X_train, mnist_X_test, mnist_y_train, mnist_y_test = train_test_split(mnist_X_norm, mnist_y,\n",
    "                                                                            test_size=0.20, random_state=0)"
   ]
  },
  {
   "cell_type": "markdown",
   "metadata": {},
   "source": [
    "## 3. Choose an estimator"
   ]
  },
  {
   "cell_type": "code",
   "execution_count": null,
   "metadata": {
    "collapsed": true
   },
   "outputs": [],
   "source": [
    "############ INSTALLATION of SKNN and THEANO on Windows 10 #################\n",
    "#!pip install scikit-neuralnetwork\n",
    "#!pip install --upgrade --no-deps git+git://github.com/Theano/Theano.git\n",
    "#!conda install mingw libpython\n",
    "#!conda install pydot-ng\n",
    "#and install a c++ compiler: TDM GCC x64 on their website (tdm64-gcc-5.1.0-2.exe)\n",
    "#Note: make sure there is only one gcc compiler in the environment PATH\n",
    "############################################################################"
   ]
  },
  {
   "cell_type": "code",
   "execution_count": 6,
   "metadata": {
    "collapsed": false
   },
   "outputs": [],
   "source": [
    "#from sknn.platform import gpu32\n",
    "from sknn.mlp import Classifier, Layer \n",
    "from sklearn.metrics import accuracy_score, f1_score\n",
    "\n",
    "parametersNN = {\n",
    "                    'layers': [ Layer(\"Sigmoid\", units=25),   # try Rectifier/100\n",
    "                                Layer(\"Softmax\")],\n",
    "                    'regularize' : 'L2',\n",
    "                    #'loss_type' : 'mse',            # not for classification\n",
    "                    'verbose' : 1,\n",
    "                    'learning_rate' : 0.01,\n",
    "                     #learning_rule='nesterov',\n",
    "                    'weight_decay' : 0.0001,         # weight_decay = regularization\n",
    "                    'learning_momentum' : 0.99,\n",
    "                    'n_iter' : 10,\n",
    "                    'batch_size' : 100                # batch_size=1: each sample is treated on its own\n",
    "                    #valid_size=0.0,\n",
    "                    #n_stable=10,\n",
    "                }\n",
    "\n",
    "\n",
    "nn = Classifier(**parametersNN)"
   ]
  },
  {
   "cell_type": "markdown",
   "metadata": {},
   "source": [
    "#### Sanity check: make sure the estimator converges"
   ]
  },
  {
   "cell_type": "code",
   "execution_count": 9,
   "metadata": {
    "collapsed": false
   },
   "outputs": [
    {
     "name": "stdout",
     "output_type": "stream",
     "text": [
      "Fit in 7.699s\n",
      "\n",
      "[(8400L, 10L)]\n",
      "Accuracy on test set (before fine-tuning hyperparameters):  0.8917\n",
      "\n",
      "[(8400L, 10L)]\n",
      "F1 on test set (before fine-tuning hyperparameters):  0.8917\n",
      "\n"
     ]
    }
   ],
   "source": [
    "t0 = time.time()\n",
    "nn.fit(mnist_X_train, mnist_y_train) \n",
    "print \"Fit in %0.3fs\" % (time.time() - t0)\n",
    "print\n",
    "print \"Accuracy on test set (before fine-tuning hyperparameters): %7.4f\" % accuracy_score(mnist_y_test, nn.predict(mnist_X_test), \n",
    "                                                     normalize=True)\n",
    "print\n",
    "print \"F1 on test set (before fine-tuning hyperparameters): %7.4f\" % f1_score( mnist_y_test, nn.predict(mnist_X_test), average='micro' )\n",
    "print\n",
    "#print nn.get_parameters()     # shows the weight matrices"
   ]
  },
  {
   "cell_type": "markdown",
   "metadata": {},
   "source": [
    "## 4. Choose cross-validation iterator"
   ]
  },
  {
   "cell_type": "code",
   "execution_count": 10,
   "metadata": {
    "collapsed": true
   },
   "outputs": [],
   "source": [
    "from sklearn.cross_validation import ShuffleSplit\n",
    "cv = ShuffleSplit(mnist_X_train.shape[0], n_iter=5, test_size=0.2, random_state=0)    "
   ]
  },
  {
   "cell_type": "markdown",
   "metadata": {},
   "source": [
    "## 5. Tune the hyperparameters (RandomizedSearch)\n",
    "Applying the cross-validation iterator on the training set.  \n",
    "Note: the scorer must be chosen carefully - here let's use F1 (classification problem).  \n",
    "For other evaluation metrics (scoring): see http://scikit-learn.org/stable/modules/model_evaluation.html"
   ]
  },
  {
   "cell_type": "code",
   "execution_count": 33,
   "metadata": {
    "collapsed": false
   },
   "outputs": [
    {
     "name": "stdout",
     "output_type": "stream",
     "text": [
      "Randomized search for: {'learning_rate': array([ 0.0001,  0.001 ,  0.01  ]), 'weight_decay': array([ 0.0001,  0.001 ,  0.01  ]), 'learning_momentum': [0.33, 0.66, 0.99], 'batch_size': [50, 100, 200]}\n",
      "Fitting 5 folds for each of 9 candidates, totalling 45 fits\n"
     ]
    },
    {
     "name": "stderr",
     "output_type": "stream",
     "text": [
      "[Parallel(n_jobs=-1)]: Done  33 tasks      | elapsed:  1.8min\n",
      "[Parallel(n_jobs=-1)]: Done  45 out of  45 | elapsed:  2.3min finished\n"
     ]
    },
    {
     "name": "stdout",
     "output_type": "stream",
     "text": [
      "Best parameters set found for training set:\n",
      "0.86125 {'learning_rate': 0.01, 'weight_decay': 0.001, 'learning_momentum': 0.66, 'batch_size': 50}\n",
      "\n",
      "RandomizedSearchCV scores on training set:\n",
      "0.815 (+/-0.019) for {'learning_rate': 0.01, 'weight_decay': 0.0001, 'learning_momentum': 0.99, 'batch_size': 100}\n",
      "0.137 (+/-0.075) for {'learning_rate': 0.0001, 'weight_decay': 0.001, 'learning_momentum': 0.66, 'batch_size': 50}\n",
      "0.719 (+/-0.037) for {'learning_rate': 0.01, 'weight_decay': 0.001, 'learning_momentum': 0.99, 'batch_size': 200}\n",
      "0.613 (+/-0.045) for {'learning_rate': 0.001, 'weight_decay': 0.01, 'learning_momentum': 0.33, 'batch_size': 50}\n",
      "0.817 (+/-0.015) for {'learning_rate': 0.01, 'weight_decay': 0.0001, 'learning_momentum': 0.66, 'batch_size': 100}\n",
      "0.115 (+/-0.049) for {'learning_rate': 0.0001, 'weight_decay': 0.0001, 'learning_momentum': 0.99, 'batch_size': 100}\n",
      "0.861 (+/-0.010) for {'learning_rate': 0.01, 'weight_decay': 0.001, 'learning_momentum': 0.66, 'batch_size': 50}\n",
      "0.254 (+/-0.058) for {'learning_rate': 0.001, 'weight_decay': 0.001, 'learning_momentum': 0.66, 'batch_size': 200}\n",
      "0.765 (+/-0.025) for {'learning_rate': 0.01, 'weight_decay': 0.01, 'learning_momentum': 0.66, 'batch_size': 100}\n"
     ]
    }
   ],
   "source": [
    "from sklearn.grid_search import GridSearchCV, RandomizedSearchCV\n",
    "import warnings\n",
    "warnings.filterwarnings(\"ignore\")\n",
    "\n",
    "# specify parameters and distributions to sample from\n",
    "param_dist = {  \"learning_rate\"     : np.logspace(-4, -2, 3),  # 3 numbers from 1e-4 to 1e-2\n",
    "                \"weight_decay\"      : np.logspace(-4, -2, 3),\n",
    "                \"learning_momentum\" : [0.33, 0.66, 0.99],\n",
    "                \"batch_size\"        : [50, 100, 200]}\n",
    "\n",
    "# run randomized search\n",
    "n_iter_search = 9 # must be less than the number of combination of param_dist\n",
    "scoring_method = 'f1_micro'\n",
    "print 'Randomized search for:', param_dist\n",
    "nn_random_search = RandomizedSearchCV(nn, param_distributions=param_dist, scoring=scoring_method, \n",
    "                                          n_iter=n_iter_search, n_jobs=-1, cv=cv, verbose=2)\n",
    "\n",
    "random_search = nn_random_search.fit(mnist_X_train, mnist_y_train)\n",
    "print \"Best parameters set found for training set:\"\n",
    "print random_search.best_score_, random_search.best_params_\n",
    "print\n",
    "print \"RandomizedSearchCV scores on training set:\"\n",
    "for params, mean_score, scores in random_search.grid_scores_:\n",
    "    print \"%0.3f (+/-%0.03f) for %r\" % (mean_score, scores.std() * 2, params)"
   ]
  },
  {
   "cell_type": "code",
   "execution_count": 53,
   "metadata": {
    "collapsed": false
   },
   "outputs": [
    {
     "name": "stdout",
     "output_type": "stream",
     "text": [
      "{'layers': [<sknn.nn.Layer `Sigmoid`: units=25, frozen=False>, <sknn.nn.Layer `Softmax`: frozen=False>], 'regularize': 'L2', 'learning_momentum': 0.66, 'verbose': 1, 'n_iter': 10, 'valid_size': 0.2, 'learning_rate': 0.01, 'weight_decay': 0.001, 'n_stable': 10, 'batch_size': 50}\n"
     ]
    }
   ],
   "source": [
    "parametersNN_opt = {\n",
    "                    'layers': [ Layer(\"Sigmoid\", units=25),   \n",
    "                                Layer(\"Softmax\")],\n",
    "                    'regularize' : 'L2',\n",
    "                    'verbose' : 1,\n",
    "                    'learning_rate' : random_search.best_params_['learning_rate'],\n",
    "                    'weight_decay' : random_search.best_params_['weight_decay'],\n",
    "                    'learning_momentum' : random_search.best_params_['learning_momentum'],\n",
    "                    'n_iter' : 10,\n",
    "                    'batch_size' : random_search.best_params_['batch_size'],    \n",
    "                    #'valid_size' : 0.20,   \n",
    "                    #'n_stable' : 10\n",
    "                }\n",
    "\n",
    "print parametersNN_opt"
   ]
  },
  {
   "cell_type": "markdown",
   "metadata": {},
   "source": [
    "## 6. Debug algorithm with learning curve\n",
    "\n",
    "X_train is randomly split into a training and a test set 5 times (n_iter=5). Each point on the training-score curve is the average of 5 scores where the model was trained and evaluated on the first i training examples. Each point on the cross-validation score curve is the average of 5 scores where the model was trained on the first i training examples and evaluated on all examples of the test set."
   ]
  },
  {
   "cell_type": "code",
   "execution_count": 15,
   "metadata": {
    "collapsed": true
   },
   "outputs": [],
   "source": [
    "from sklearn.learning_curve import learning_curve\n",
    "from sklearn import cross_validation\n",
    "\n",
    "def plot_learning_curve(estimator, title, X, y, ylim=None, cv=None, scoring=None,\n",
    "                        n_jobs=1, train_sizes=np.linspace(.1, 1.0, 5)):\n",
    "    \"\"\"\n",
    "    Generate a simple plot of the test and traning learning curve.\n",
    "\n",
    "    Parameters\n",
    "    ----------\n",
    "    estimator : object type that implements the \"fit\" and \"predict\" methods\n",
    "        An object of that type which is cloned for each validation.\n",
    "\n",
    "    title : string\n",
    "        Title for the chart.\n",
    "\n",
    "    X : array-like, shape (n_samples, n_features)\n",
    "        Training vector, where n_samples is the number of samples and\n",
    "        n_features is the number of features.\n",
    "\n",
    "    y : array-like, shape (n_samples) or (n_samples, n_features), optional\n",
    "        Target relative to X for classification or regression;\n",
    "        None for unsupervised learning.\n",
    "\n",
    "    ylim : tuple, shape (ymin, ymax), optional\n",
    "        Defines minimum and maximum yvalues plotted.\n",
    "\n",
    "    cv : integer, cross-validation generator, optional\n",
    "        If an integer is passed, it is the number of folds (defaults to 3).\n",
    "        Specific cross-validation objects can be passed, see\n",
    "        sklearn.cross_validation module for the list of possible objects\n",
    "\n",
    "    n_jobs : integer, optional\n",
    "        Number of jobs to run in parallel (default 1).\n",
    "    \"\"\"\n",
    "    plt.figure()\n",
    "    plt.title(title)\n",
    "    if ylim is not None:\n",
    "        plt.ylim(*ylim)\n",
    "    plt.xlabel(\"Training examples\")\n",
    "    plt.ylabel(\"Score: \" + str(scoring))\n",
    "    train_sizes, train_scores, test_scores = learning_curve(\n",
    "        estimator, X, y, cv=cv, n_jobs=n_jobs, train_sizes=train_sizes, scoring=scoring)\n",
    "    train_scores_mean = np.mean(train_scores, axis=1) \n",
    "    train_scores_std = np.std(train_scores, axis=1)\n",
    "    test_scores_mean = np.mean(test_scores, axis=1) \n",
    "    test_scores_std = np.std(test_scores, axis=1)\n",
    "    plt.grid()\n",
    "\n",
    "    plt.fill_between(train_sizes, train_scores_mean - train_scores_std,\n",
    "                     train_scores_mean + train_scores_std, alpha=0.1,\n",
    "                     color=\"r\")\n",
    "    plt.fill_between(train_sizes, test_scores_mean - test_scores_std,\n",
    "                     test_scores_mean + test_scores_std, alpha=0.1, color=\"g\")\n",
    "    plt.plot(train_sizes, train_scores_mean, 'o-', color=\"r\",\n",
    "             label=\"Training score\")\n",
    "    plt.plot(train_sizes, test_scores_mean, 'o-', color=\"g\",\n",
    "             label=\"Cross-validation score\")\n",
    "\n",
    "    plt.legend(loc=\"best\")\n",
    "    \n",
    "    plt.gca().invert_yaxis()\n",
    "    \n",
    "    return plt"
   ]
  },
  {
   "cell_type": "code",
   "execution_count": 16,
   "metadata": {
    "collapsed": false,
    "scrolled": true
   },
   "outputs": [
    {
     "data": {
      "image/png": "[encoded data removed]",
      "text/plain": [
       "<matplotlib.figure.Figure at 0xdf7d748>"
      ]
     },
     "metadata": {},
     "output_type": "display_data"
    }
   ],
   "source": [
    "title = 'Learning Curves (NN with tuned hyperparameters)'    \n",
    "estimator = Classifier(**parametersNN_opt)           # classifier with the tuned hyperparameters \n",
    "plot_learning_curve(estimator, title, mnist_X_train, mnist_y_train, \n",
    "                    ylim=(0.0, 1.01), cv=cv, n_jobs=-1, scoring=scoring_method)\n",
    "plt.show()"
   ]
  },
  {
   "cell_type": "markdown",
   "metadata": {},
   "source": [
    "#### Using the learning curves to improve the learning algorithm (Bias/Variance trade-off)\n",
    "\n",
    "\n",
    "##### High Bias\n",
    "\n",
    "If the learning algorithm suffers from high bias, the following actions might help:\n",
    "\n",
    "- Add more features. In the example of predicting home prices, it may be helpful to make use of information such as the neighborhood the house is in, the year the house was built, the size of the lot, etc. Adding these features to the training and test sets can improve a high-bias estimator\n",
    "- Use a more sophisticated model. Adding complexity to the model can help improve on bias. For a polynomial fit, this can be accomplished by increasing the degree d. Each learning technique has its own methods of adding complexity.\n",
    "- Use fewer samples. Though this will not improve the classification, a high-bias algorithm can attain nearly the same error with a smaller training sample. For algorithms which are computationally expensive, reducing the training sample size can lead to very large improvements in speed.\n",
    "- Decrease regularization. Regularization is a technique used to impose simplicity in some machine learning models, by adding a penalty term that depends on the characteristics of the parameters. If a model has high bias, decreasing the effect of regularization can lead to better results.\n",
    "\n",
    "##### High Variance\n",
    "\n",
    "If the learning algorithm suffers from high variance, the following actions might help:\n",
    "\n",
    "- Use fewer features. Using a feature selection technique may be useful, and decrease the over-fitting of the estimator.\n",
    "- Use more training samples. Adding training samples can reduce the effect of over-fitting, and lead to improvements in a high variance estimator.\n",
    "- Increase Regularization. Regularization is designed to prevent over-fitting. In a high-variance model, increasing regularization can lead to better results.\n",
    "\n",
    "Source: http://www.astroml.org/sklearn_tutorial/practical.html"
   ]
  },
  {
   "cell_type": "markdown",
   "metadata": {},
   "source": [
    "## 7. Prediction on the test set and Final evaluation\n"
   ]
  },
  {
   "cell_type": "code",
   "execution_count": 22,
   "metadata": {
    "collapsed": false
   },
   "outputs": [
    {
     "name": "stdout",
     "output_type": "stream",
     "text": [
      "Fit in 20.051s\n",
      "[(8400L, 10L)]\n",
      "             precision    recall  f1-score   support\n",
      "\n",
      "          0       0.93      0.96      0.94       813\n",
      "          1       0.95      0.97      0.96       961\n",
      "          2       0.93      0.89      0.91       860\n",
      "          3       0.91      0.88      0.90       863\n",
      "          4       0.91      0.93      0.92       827\n",
      "          5       0.89      0.87      0.88       756\n",
      "          6       0.92      0.95      0.94       841\n",
      "          7       0.92      0.92      0.92       899\n",
      "          8       0.88      0.86      0.87       768\n",
      "          9       0.89      0.86      0.88       812\n",
      "\n",
      "avg / total       0.91      0.91      0.91      8400\n",
      "\n"
     ]
    },
    {
     "data": {
      "image/png": "[encoded data removed]",
      "text/plain": [
       "<matplotlib.figure.Figure at 0x1a712048>"
      ]
     },
     "metadata": {},
     "output_type": "display_data"
    },
    {
     "data": {
      "image/png": "[encoded data removed]",
      "text/plain": [
       "<matplotlib.figure.Figure at 0x1a689c18>"
      ]
     },
     "metadata": {},
     "output_type": "display_data"
    }
   ],
   "source": [
    "t0 = time.time()\n",
    "estimator.fit(mnist_X_norm, mnist_y) \n",
    "print \"Fit in %0.3fs\" % (time.time() - t0)\n",
    "\n",
    "mnist_y_pred = estimator.predict(mnist_X_test)\n",
    "\n",
    "for i in range(1,3):\n",
    "    number_mat = np.reshape(mnist_X_test[i],(28,28))\n",
    "    plt.matshow(number_mat)\n",
    "    plt.title('Predicted label: ' + str( mnist_y_pred[i][0] ), fontsize=20)\n",
    "    plt.grid(False)\n",
    "    plt.axis('off')\n",
    "\n",
    "print classification_report(mnist_y_test, mnist_y_pred)"
   ]
  }
 ],
 "metadata": {
  "kernelspec": {
   "display_name": "Python 2",
   "language": "python",
   "name": "python2"
  },
  "language_info": {
   "codemirror_mode": {
    "name": "ipython",
    "version": 2
   },
   "file_extension": ".py",
   "mimetype": "text/x-python",
   "name": "python",
   "nbconvert_exporter": "python",
   "pygments_lexer": "ipython2",
   "version": "2.7.11"
  }
 },
 "nbformat": 4,
 "nbformat_minor": 0
}
